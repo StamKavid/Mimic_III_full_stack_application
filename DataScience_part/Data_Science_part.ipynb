{
 "cells": [
  {
   "cell_type": "markdown",
   "metadata": {},
   "source": [
    "# 1. Import relevant libraries"
   ]
  },
  {
   "cell_type": "code",
   "execution_count": 91,
   "metadata": {
    "scrolled": true
   },
   "outputs": [],
   "source": [
    "# General libraries\n",
    "import operator\n",
    "import warnings\n",
    "warnings.filterwarnings('ignore')\n",
    "\n",
    "# Import data manipulation libraries\n",
    "import numpy as np\n",
    "import pandas as pd\n",
    "from scipy.stats import norm\n",
    "from scipy import stats\n",
    "\n",
    "# Import visualization libraries\n",
    "import matplotlib.pyplot as plt\n",
    "import seaborn as sns\n",
    "\n",
    "#Import machine learning libraries\n",
    "from sklearn.feature_selection import SelectKBest, chi2, f_classif\n",
    "from sklearn.model_selection import train_test_split\n",
    "from sklearn.model_selection import KFold\n",
    "from sklearn.model_selection import cross_val_score\n",
    "\n",
    "# Import CatBoost % XGBoost\n",
    "from catboost import CatBoostClassifier\n",
    "from xgboost import XGBClassifier\n",
    "from sklearn.model_selection import RandomizedSearchCV, KFold\n",
    "from sklearn.metrics import f1_score\n",
    "from sklearn.model_selection import GridSearchCV\n",
    "import xgboost\n",
    "from sklearn.metrics import roc_curve, auc\n",
    "from sklearn.metrics import confusion_matrix, classification_report\n",
    "\n",
    "# Showing all the features in the head function\n",
    "pd.set_option('display.max_columns', None)\n",
    "pd.set_option('display.max_rows', None)"
   ]
  },
  {
   "cell_type": "markdown",
   "metadata": {},
   "source": [
    "# 2. Import dataset"
   ]
  },
  {
   "cell_type": "code",
   "execution_count": 3,
   "metadata": {
    "scrolled": true
   },
   "outputs": [],
   "source": [
    "# Read the dataset and check for missing values, types of features etc.\n",
    "raw_data = pd.read_csv(\"data.csv\")\n",
    "# raw_data.head()"
   ]
  },
  {
   "cell_type": "code",
   "execution_count": 4,
   "metadata": {
    "scrolled": true
   },
   "outputs": [
    {
     "data": {
      "text/plain": [
       "(48976, 25)"
      ]
     },
     "execution_count": 4,
     "metadata": {},
     "output_type": "execute_result"
    }
   ],
   "source": [
    "# See the shape of the dataset - We have 50k rows and 25 features\n",
    "raw_data.shape"
   ]
  },
  {
   "cell_type": "code",
   "execution_count": 5,
   "metadata": {
    "scrolled": true
   },
   "outputs": [
    {
     "data": {
      "text/html": [
       "<div>\n",
       "<style scoped>\n",
       "    .dataframe tbody tr th:only-of-type {\n",
       "        vertical-align: middle;\n",
       "    }\n",
       "\n",
       "    .dataframe tbody tr th {\n",
       "        vertical-align: top;\n",
       "    }\n",
       "\n",
       "    .dataframe thead th {\n",
       "        text-align: right;\n",
       "    }\n",
       "</style>\n",
       "<table border=\"1\" class=\"dataframe\">\n",
       "  <thead>\n",
       "    <tr style=\"text-align: right;\">\n",
       "      <th></th>\n",
       "      <th>age</th>\n",
       "      <th>hospitalization</th>\n",
       "      <th>num_callouts</th>\n",
       "      <th>num_diagnoses</th>\n",
       "      <th>num_procedures</th>\n",
       "      <th>num_cptevents</th>\n",
       "      <th>num_inputevents</th>\n",
       "      <th>num_labevents</th>\n",
       "      <th>num_microbiologyevents</th>\n",
       "      <th>num_noteevents</th>\n",
       "      <th>num_outputevents</th>\n",
       "      <th>num_procedureevents</th>\n",
       "      <th>num_transfers</th>\n",
       "      <th>num_chartevents</th>\n",
       "      <th>expired</th>\n",
       "      <th>patient_id</th>\n",
       "    </tr>\n",
       "  </thead>\n",
       "  <tbody>\n",
       "    <tr>\n",
       "      <th>count</th>\n",
       "      <td>48976.000000</td>\n",
       "      <td>48976.000000</td>\n",
       "      <td>48976.000000</td>\n",
       "      <td>48976.000000</td>\n",
       "      <td>48976.000000</td>\n",
       "      <td>48976.000000</td>\n",
       "      <td>48976.000000</td>\n",
       "      <td>48976.000000</td>\n",
       "      <td>48976.000000</td>\n",
       "      <td>48976.000000</td>\n",
       "      <td>48976.000000</td>\n",
       "      <td>48976.000000</td>\n",
       "      <td>48976.000000</td>\n",
       "      <td>48976.000000</td>\n",
       "      <td>48976.000000</td>\n",
       "      <td>48976.000000</td>\n",
       "    </tr>\n",
       "    <tr>\n",
       "      <th>mean</th>\n",
       "      <td>52.880574</td>\n",
       "      <td>10.085454</td>\n",
       "      <td>0.486606</td>\n",
       "      <td>2.677291</td>\n",
       "      <td>0.719005</td>\n",
       "      <td>1.046329</td>\n",
       "      <td>30.138027</td>\n",
       "      <td>46.397052</td>\n",
       "      <td>1.179823</td>\n",
       "      <td>6.293144</td>\n",
       "      <td>7.094189</td>\n",
       "      <td>0.690277</td>\n",
       "      <td>1.070524</td>\n",
       "      <td>527.014599</td>\n",
       "      <td>0.098783</td>\n",
       "      <td>24487.500000</td>\n",
       "    </tr>\n",
       "    <tr>\n",
       "      <th>std</th>\n",
       "      <td>26.072615</td>\n",
       "      <td>12.445730</td>\n",
       "      <td>0.856137</td>\n",
       "      <td>8.188330</td>\n",
       "      <td>3.674547</td>\n",
       "      <td>2.002183</td>\n",
       "      <td>63.043404</td>\n",
       "      <td>76.221281</td>\n",
       "      <td>4.477031</td>\n",
       "      <td>102.092164</td>\n",
       "      <td>7.457007</td>\n",
       "      <td>2.144865</td>\n",
       "      <td>3.159967</td>\n",
       "      <td>653.364421</td>\n",
       "      <td>0.298374</td>\n",
       "      <td>14138.297729</td>\n",
       "    </tr>\n",
       "    <tr>\n",
       "      <th>min</th>\n",
       "      <td>0.000000</td>\n",
       "      <td>0.000000</td>\n",
       "      <td>0.000000</td>\n",
       "      <td>0.000000</td>\n",
       "      <td>0.000000</td>\n",
       "      <td>0.000000</td>\n",
       "      <td>0.000000</td>\n",
       "      <td>0.000000</td>\n",
       "      <td>0.000000</td>\n",
       "      <td>0.000000</td>\n",
       "      <td>0.000000</td>\n",
       "      <td>0.000000</td>\n",
       "      <td>0.000000</td>\n",
       "      <td>0.000000</td>\n",
       "      <td>0.000000</td>\n",
       "      <td>0.000000</td>\n",
       "    </tr>\n",
       "    <tr>\n",
       "      <th>25%</th>\n",
       "      <td>43.000000</td>\n",
       "      <td>3.710000</td>\n",
       "      <td>0.000000</td>\n",
       "      <td>1.000000</td>\n",
       "      <td>0.000000</td>\n",
       "      <td>0.000000</td>\n",
       "      <td>5.000000</td>\n",
       "      <td>27.000000</td>\n",
       "      <td>0.000000</td>\n",
       "      <td>0.000000</td>\n",
       "      <td>2.000000</td>\n",
       "      <td>0.000000</td>\n",
       "      <td>0.000000</td>\n",
       "      <td>207.000000</td>\n",
       "      <td>0.000000</td>\n",
       "      <td>12243.750000</td>\n",
       "    </tr>\n",
       "    <tr>\n",
       "      <th>50%</th>\n",
       "      <td>59.000000</td>\n",
       "      <td>6.420000</td>\n",
       "      <td>0.000000</td>\n",
       "      <td>1.000000</td>\n",
       "      <td>0.000000</td>\n",
       "      <td>1.000000</td>\n",
       "      <td>14.000000</td>\n",
       "      <td>39.000000</td>\n",
       "      <td>1.000000</td>\n",
       "      <td>0.000000</td>\n",
       "      <td>5.000000</td>\n",
       "      <td>0.000000</td>\n",
       "      <td>1.000000</td>\n",
       "      <td>418.000000</td>\n",
       "      <td>0.000000</td>\n",
       "      <td>24487.500000</td>\n",
       "    </tr>\n",
       "    <tr>\n",
       "      <th>75%</th>\n",
       "      <td>73.000000</td>\n",
       "      <td>11.750000</td>\n",
       "      <td>1.000000</td>\n",
       "      <td>2.000000</td>\n",
       "      <td>1.000000</td>\n",
       "      <td>2.000000</td>\n",
       "      <td>34.000000</td>\n",
       "      <td>51.000000</td>\n",
       "      <td>1.000000</td>\n",
       "      <td>1.000000</td>\n",
       "      <td>10.000000</td>\n",
       "      <td>1.000000</td>\n",
       "      <td>1.000000</td>\n",
       "      <td>699.000000</td>\n",
       "      <td>0.000000</td>\n",
       "      <td>36731.250000</td>\n",
       "    </tr>\n",
       "    <tr>\n",
       "      <th>max</th>\n",
       "      <td>89.000000</td>\n",
       "      <td>294.630000</td>\n",
       "      <td>20.000000</td>\n",
       "      <td>350.000000</td>\n",
       "      <td>275.000000</td>\n",
       "      <td>225.000000</td>\n",
       "      <td>6825.000000</td>\n",
       "      <td>5175.000000</td>\n",
       "      <td>375.000000</td>\n",
       "      <td>5625.000000</td>\n",
       "      <td>375.000000</td>\n",
       "      <td>100.000000</td>\n",
       "      <td>100.000000</td>\n",
       "      <td>49325.000000</td>\n",
       "      <td>1.000000</td>\n",
       "      <td>48975.000000</td>\n",
       "    </tr>\n",
       "  </tbody>\n",
       "</table>\n",
       "</div>"
      ],
      "text/plain": [
       "                age  hospitalization  num_callouts  num_diagnoses  \\\n",
       "count  48976.000000     48976.000000  48976.000000   48976.000000   \n",
       "mean      52.880574        10.085454      0.486606       2.677291   \n",
       "std       26.072615        12.445730      0.856137       8.188330   \n",
       "min        0.000000         0.000000      0.000000       0.000000   \n",
       "25%       43.000000         3.710000      0.000000       1.000000   \n",
       "50%       59.000000         6.420000      0.000000       1.000000   \n",
       "75%       73.000000        11.750000      1.000000       2.000000   \n",
       "max       89.000000       294.630000     20.000000     350.000000   \n",
       "\n",
       "       num_procedures  num_cptevents  num_inputevents  num_labevents  \\\n",
       "count    48976.000000   48976.000000     48976.000000   48976.000000   \n",
       "mean         0.719005       1.046329        30.138027      46.397052   \n",
       "std          3.674547       2.002183        63.043404      76.221281   \n",
       "min          0.000000       0.000000         0.000000       0.000000   \n",
       "25%          0.000000       0.000000         5.000000      27.000000   \n",
       "50%          0.000000       1.000000        14.000000      39.000000   \n",
       "75%          1.000000       2.000000        34.000000      51.000000   \n",
       "max        275.000000     225.000000      6825.000000    5175.000000   \n",
       "\n",
       "       num_microbiologyevents  num_noteevents  num_outputevents  \\\n",
       "count            48976.000000    48976.000000      48976.000000   \n",
       "mean                 1.179823        6.293144          7.094189   \n",
       "std                  4.477031      102.092164          7.457007   \n",
       "min                  0.000000        0.000000          0.000000   \n",
       "25%                  0.000000        0.000000          2.000000   \n",
       "50%                  1.000000        0.000000          5.000000   \n",
       "75%                  1.000000        1.000000         10.000000   \n",
       "max                375.000000     5625.000000        375.000000   \n",
       "\n",
       "       num_procedureevents  num_transfers  num_chartevents       expired  \\\n",
       "count         48976.000000   48976.000000     48976.000000  48976.000000   \n",
       "mean              0.690277       1.070524       527.014599      0.098783   \n",
       "std               2.144865       3.159967       653.364421      0.298374   \n",
       "min               0.000000       0.000000         0.000000      0.000000   \n",
       "25%               0.000000       0.000000       207.000000      0.000000   \n",
       "50%               0.000000       1.000000       418.000000      0.000000   \n",
       "75%               1.000000       1.000000       699.000000      0.000000   \n",
       "max             100.000000     100.000000     49325.000000      1.000000   \n",
       "\n",
       "         patient_id  \n",
       "count  48976.000000  \n",
       "mean   24487.500000  \n",
       "std    14138.297729  \n",
       "min        0.000000  \n",
       "25%    12243.750000  \n",
       "50%    24487.500000  \n",
       "75%    36731.250000  \n",
       "max    48975.000000  "
      ]
     },
     "execution_count": 5,
     "metadata": {},
     "output_type": "execute_result"
    }
   ],
   "source": [
    "# Let's see our features. Shall we?\n",
    "raw_data.describe()"
   ]
  },
  {
   "cell_type": "code",
   "execution_count": 6,
   "metadata": {
    "scrolled": false
   },
   "outputs": [
    {
     "name": "stdout",
     "output_type": "stream",
     "text": [
      "int64      15\n",
      "object      9\n",
      "float64     1\n",
      "dtype: int64\n"
     ]
    }
   ],
   "source": [
    "# Let's see the type of each feature - We have 16 numerical and 9 categorical features\n",
    "# raw_data.dtypes\n",
    "print(raw_data.dtypes.astype(str).value_counts())"
   ]
  },
  {
   "cell_type": "code",
   "execution_count": 7,
   "metadata": {
    "scrolled": true
   },
   "outputs": [
    {
     "data": {
      "text/plain": [
       "admission_diagnosis      21\n",
       "religion                378\n",
       "ethnicity               701\n",
       "insurance               830\n",
       "admission_procedure    1492\n",
       "admission_origin       3576\n",
       "marital_status         8649\n",
       "dtype: int64"
      ]
     },
     "execution_count": 7,
     "metadata": {},
     "output_type": "execute_result"
    }
   ],
   "source": [
    "# See if there are missing values\n",
    "# raw_data.info() or the one below is better\n",
    "raw_data.isna().sum()[raw_data.isna().sum() != 0].sort_values()"
   ]
  },
  {
   "cell_type": "markdown",
   "metadata": {},
   "source": [
    "# 3. Exploratory Data Analysis (EDA)"
   ]
  },
  {
   "cell_type": "code",
   "execution_count": 8,
   "metadata": {},
   "outputs": [],
   "source": [
    "# Function that you can find missing values in a chart, sorted\n",
    "def missing(data):\n",
    "    total = data.isnull().sum().sort_values(ascending=False)\n",
    "    percent = (data.isnull().sum()/data.isnull().count()).sort_values(ascending=False)\n",
    "    missing_data = pd.concat([total, percent], axis=1, keys=['Total', 'Percentage'])\n",
    "    plt.subplots(figsize=(15,5))\n",
    "    missing_data[\"Total\"].plot.bar()\n",
    "    plt.title(\"NUMBER OF MISSING VALUES\")\n",
    "    plt.legend()\n",
    "    plt.show()\n",
    "    return missing_data"
   ]
  },
  {
   "cell_type": "code",
   "execution_count": 14,
   "metadata": {},
   "outputs": [],
   "source": [
    "# missing(raw_data)"
   ]
  },
  {
   "cell_type": "code",
   "execution_count": 9,
   "metadata": {},
   "outputs": [],
   "source": [
    "# Function that you can find the outliers, using the μ +- 3σ statistical method.\n",
    "def outliers(data):\n",
    "    numerics = ['int64','float64']\n",
    "    num_df = data.select_dtypes(include=numerics).drop([\"expired\",\"patient_id\"],axis=1)\n",
    "    my_dict = dict()\n",
    "    for col in num_df:\n",
    "        i = 0\n",
    "        m = num_df[col].mean()\n",
    "        s = num_df[col].std()\n",
    "        for row in num_df[col]:\n",
    "            if row > (m + 3*s) or row < (m - 3*s):\n",
    "                i+=1\n",
    "        my_dict.update({col:i})\n",
    "    plt.subplots(figsize=(35,5))\n",
    "    plt.bar(my_dict.keys(),my_dict.values())\n",
    "    plt.show()\n",
    "    return my_dict"
   ]
  },
  {
   "cell_type": "code",
   "execution_count": 16,
   "metadata": {},
   "outputs": [],
   "source": [
    "# outliers(raw_data)"
   ]
  },
  {
   "cell_type": "code",
   "execution_count": 10,
   "metadata": {},
   "outputs": [],
   "source": [
    "# Functions for data visualization\n",
    "def histogramms(data):\n",
    "    data = data.drop([\"patient_id\"],axis=1)\n",
    "    data.hist(figsize=(16, 20), bins=50, xlabelsize=8, ylabelsize=8)\n",
    "\n",
    "def descriptives_of_numerics(data):\n",
    "    plt.figure(figsize=(20, 10))\n",
    "    sns.distplot(data, color='g', bins=100, hist_kws={'alpha': 0.4}, fit=norm);\n",
    "    fig = plt.figure()\n",
    "    res = stats.probplot(data, plot=plt)\n",
    "    print(\"Skewness: %f\" % data.skew())\n",
    "    print(\"Kurtosis: %f\" % data.kurt())\n",
    "    return data.describe()\n",
    "    \n",
    "def descriptives_of_categoricals(data):\n",
    "    categoricals = data.select_dtypes(include=['O'])\n",
    "    sns.boxplot(categoricals)\n",
    "    plt.show()\n",
    "    return categoricals.describe()\n",
    "\n",
    "def fun_correl_coeff(data):\n",
    "    columns_reordered = ['patient_id', 'gender', 'age', 'admission_type',\n",
    "       'admission_origin', 'admission_diagnosis', 'admission_procedure', 'insurance', 'religion',\n",
    "       'marital_status', 'ethnicity', 'expired','num_callouts', 'num_diagnoses',\n",
    "       'num_procedures', 'num_cptevents', 'num_inputevents', 'num_labevents', 'num_microbiologyevents',\n",
    "       'num_noteevents', 'num_outputevents', 'num_procedureevents',\n",
    "       'num_transfers', 'num_chartevents', 'hospitalization']\n",
    "    data_without_id = data[columns_reordered].drop(['patient_id'], axis = 1)\n",
    "    data_num = data_without_id.select_dtypes(include = ['float64', 'int64']).drop(['expired'], axis = 1)\n",
    "    individual_features_df = []\n",
    "    for i in range(len(data_num.columns) - 1):\n",
    "        tmpDf = data_num[[data_num.columns[i], 'hospitalization']]\n",
    "        tmpDf = tmpDf[tmpDf[data_num.columns[i]] != 0]\n",
    "        individual_features_df.append(tmpDf)\n",
    "    all_correlations = {feature.columns[0]: feature.corr()['hospitalization'][0] for feature in individual_features_df}\n",
    "    all_correlations = sorted(all_correlations.items(), key=operator.itemgetter(1))\n",
    "    for (key, value) in all_correlations:\n",
    "        print(\"{:>15}: {:>15}\".format(key, value))\n",
    "    \n",
    "def fun_heatmap_corr(data, k):\n",
    "    corrmat = data.corr()\n",
    "    f, ax = plt.subplots(figsize=(20, 20))\n",
    "    cols = corrmat.nlargest(k, 'hospitalization')['hospitalization'].index\n",
    "    cm = np.corrcoef(data[cols].values.T)\n",
    "    sns.set(font_scale=1.25)\n",
    "    hm = sns.heatmap(cm, cmap=\"YlGnBu\", cbar=True, annot=True, square=True, fmt='.2f', annot_kws={'size': 10}, yticklabels=cols.values, xticklabels=cols.values)\n",
    "    plt.show()\n",
    "\n",
    "def fun_heatmap_corr_1(data):\n",
    "    data_num = data.select_dtypes(include = ['float64', 'int64']).drop(['expired'], axis = 1)\n",
    "    corr = data_num.drop('hospitalization', axis=1).corr() # We already examined hospitalization correlations\n",
    "    plt.figure(figsize=(12, 10))\n",
    "    sns.heatmap(corr[(corr >= 0.4) | (corr <= -0.4)], \n",
    "                cmap='viridis', vmax=1.0, vmin=-1.0, linewidths=0.1,\n",
    "                annot=True, annot_kws={\"size\": 8}, square=True);"
   ]
  },
  {
   "cell_type": "markdown",
   "metadata": {},
   "source": [
    "## Create a chekpoint "
   ]
  },
  {
   "cell_type": "code",
   "execution_count": 17,
   "metadata": {
    "scrolled": true
   },
   "outputs": [],
   "source": [
    "data1 = raw_data.copy()\n",
    "\n",
    "# Re order the columns, so our target will be in the end (the last value)\n",
    "columns_reordered = ['patient_id', 'gender', 'age', 'admission_type',\n",
    "       'admission_origin','insurance', 'admission_diagnosis','admission_procedure', 'religion',\n",
    "       'marital_status', 'ethnicity', 'expired','num_callouts', 'num_diagnoses',\n",
    "       'num_procedures', 'num_cptevents', 'num_inputevents', 'num_labevents', 'num_microbiologyevents',\n",
    "       'num_noteevents', 'num_outputevents', 'num_procedureevents',\n",
    "       'num_transfers', 'num_chartevents', 'hospitalization']\n",
    "data1 = data1[columns_reordered]"
   ]
  },
  {
   "cell_type": "code",
   "execution_count": 18,
   "metadata": {},
   "outputs": [
    {
     "data": {
      "text/html": [
       "<div>\n",
       "<style scoped>\n",
       "    .dataframe tbody tr th:only-of-type {\n",
       "        vertical-align: middle;\n",
       "    }\n",
       "\n",
       "    .dataframe tbody tr th {\n",
       "        vertical-align: top;\n",
       "    }\n",
       "\n",
       "    .dataframe thead th {\n",
       "        text-align: right;\n",
       "    }\n",
       "</style>\n",
       "<table border=\"1\" class=\"dataframe\">\n",
       "  <thead>\n",
       "    <tr style=\"text-align: right;\">\n",
       "      <th></th>\n",
       "      <th>gender</th>\n",
       "      <th>admission_type</th>\n",
       "      <th>admission_origin</th>\n",
       "      <th>insurance</th>\n",
       "      <th>admission_diagnosis</th>\n",
       "      <th>admission_procedure</th>\n",
       "      <th>religion</th>\n",
       "      <th>marital_status</th>\n",
       "      <th>ethnicity</th>\n",
       "    </tr>\n",
       "  </thead>\n",
       "  <tbody>\n",
       "    <tr>\n",
       "      <th>0</th>\n",
       "      <td>M</td>\n",
       "      <td>EMERGENCY</td>\n",
       "      <td>CLINIC REFERRAL</td>\n",
       "      <td>Medicare</td>\n",
       "      <td>PNEUMONIA</td>\n",
       "      <td>Closed bronchial biopsy</td>\n",
       "      <td>NOT SPECIFIED</td>\n",
       "      <td>DIVORCED</td>\n",
       "      <td>WHITE</td>\n",
       "    </tr>\n",
       "    <tr>\n",
       "      <th>1</th>\n",
       "      <td>M</td>\n",
       "      <td>EMERGENCY</td>\n",
       "      <td>EMERGENCY ROOM ADMISSION</td>\n",
       "      <td>Government</td>\n",
       "      <td>SEIZURE</td>\n",
       "      <td>Cont inv mec ven &lt;96 hrs</td>\n",
       "      <td>NOT SPECIFIED</td>\n",
       "      <td>SINGLE</td>\n",
       "      <td>PATIENT DECLINED TO ANSWER</td>\n",
       "    </tr>\n",
       "    <tr>\n",
       "      <th>2</th>\n",
       "      <td>M</td>\n",
       "      <td>EMERGENCY</td>\n",
       "      <td>ER ADMISSION</td>\n",
       "      <td>Government</td>\n",
       "      <td>SCALP LACERATION;RESPIRATORY FAILURE</td>\n",
       "      <td>Cont inv mec ven 96+ hrs</td>\n",
       "      <td>UNOBTAINABLE</td>\n",
       "      <td>DIVORCED</td>\n",
       "      <td>BLACK/AFRICAN AMERICAN</td>\n",
       "    </tr>\n",
       "    <tr>\n",
       "      <th>3</th>\n",
       "      <td>F</td>\n",
       "      <td>URGENT</td>\n",
       "      <td>TRANSFER FROM HOSPITAL</td>\n",
       "      <td>Private</td>\n",
       "      <td>CARDIAC DZ.</td>\n",
       "      <td>Implt/repl carddefib tot</td>\n",
       "      <td>OTHER</td>\n",
       "      <td>MARRIED</td>\n",
       "      <td>UNKNOWN/NOT SPECIFIED</td>\n",
       "    </tr>\n",
       "    <tr>\n",
       "      <th>4</th>\n",
       "      <td>F</td>\n",
       "      <td>ELECTIVE</td>\n",
       "      <td>NaN</td>\n",
       "      <td>Medicare</td>\n",
       "      <td>ABDOMINAL LAXITY/SDA</td>\n",
       "      <td>Uterine les destruct NEC</td>\n",
       "      <td>NOT SPECIFIED</td>\n",
       "      <td>SINGLE</td>\n",
       "      <td>WHITE</td>\n",
       "    </tr>\n",
       "    <tr>\n",
       "      <th>5</th>\n",
       "      <td>F</td>\n",
       "      <td>EMERGENCY</td>\n",
       "      <td>TRANSFER FROM HOSP.</td>\n",
       "      <td>Private</td>\n",
       "      <td>RESPIRATORY FAILURE</td>\n",
       "      <td>Cont inv mec ven &lt;96 hrs</td>\n",
       "      <td>NOT SPECIFIED</td>\n",
       "      <td>MARRIED</td>\n",
       "      <td>WHITE</td>\n",
       "    </tr>\n",
       "    <tr>\n",
       "      <th>6</th>\n",
       "      <td>F</td>\n",
       "      <td>EMERGENCY</td>\n",
       "      <td>CLINIC REFERRAL</td>\n",
       "      <td>Medicare</td>\n",
       "      <td>ABDOMINAL PAIN</td>\n",
       "      <td>Venous cath NEC</td>\n",
       "      <td>PROTESTANT QUAKER</td>\n",
       "      <td>SINGLE</td>\n",
       "      <td>BLACK/AFRICAN AMERICAN</td>\n",
       "    </tr>\n",
       "  </tbody>\n",
       "</table>\n",
       "</div>"
      ],
      "text/plain": [
       "  gender admission_type          admission_origin   insurance  \\\n",
       "0      M      EMERGENCY           CLINIC REFERRAL    Medicare   \n",
       "1      M      EMERGENCY  EMERGENCY ROOM ADMISSION  Government   \n",
       "2      M      EMERGENCY              ER ADMISSION  Government   \n",
       "3      F         URGENT    TRANSFER FROM HOSPITAL     Private   \n",
       "4      F       ELECTIVE                       NaN    Medicare   \n",
       "5      F      EMERGENCY       TRANSFER FROM HOSP.     Private   \n",
       "6      F      EMERGENCY           CLINIC REFERRAL    Medicare   \n",
       "\n",
       "                    admission_diagnosis       admission_procedure  \\\n",
       "0                             PNEUMONIA   Closed bronchial biopsy   \n",
       "1                               SEIZURE  Cont inv mec ven <96 hrs   \n",
       "2  SCALP LACERATION;RESPIRATORY FAILURE  Cont inv mec ven 96+ hrs   \n",
       "3                           CARDIAC DZ.  Implt/repl carddefib tot   \n",
       "4                  ABDOMINAL LAXITY/SDA  Uterine les destruct NEC   \n",
       "5                   RESPIRATORY FAILURE  Cont inv mec ven <96 hrs   \n",
       "6                        ABDOMINAL PAIN           Venous cath NEC   \n",
       "\n",
       "            religion marital_status                   ethnicity  \n",
       "0      NOT SPECIFIED       DIVORCED                       WHITE  \n",
       "1      NOT SPECIFIED         SINGLE  PATIENT DECLINED TO ANSWER  \n",
       "2       UNOBTAINABLE       DIVORCED      BLACK/AFRICAN AMERICAN  \n",
       "3              OTHER        MARRIED       UNKNOWN/NOT SPECIFIED  \n",
       "4      NOT SPECIFIED         SINGLE                       WHITE  \n",
       "5      NOT SPECIFIED        MARRIED                       WHITE  \n",
       "6  PROTESTANT QUAKER         SINGLE      BLACK/AFRICAN AMERICAN  "
      ]
     },
     "execution_count": 18,
     "metadata": {},
     "output_type": "execute_result"
    }
   ],
   "source": [
    "# Showing the categorical values\n",
    "data_cat = data1.select_dtypes(include = ['O'])\n",
    "data_cat.head(7)"
   ]
  },
  {
   "cell_type": "code",
   "execution_count": 55,
   "metadata": {},
   "outputs": [],
   "source": [
    "# Function that taking care all the Data cleansing of the Dataset\n",
    "def cleaning(data):\n",
    "    \n",
    "    # Dropping all the NaN values.\n",
    "    data = data.dropna() \n",
    "\n",
    "    # Outliers\n",
    "    data = data[(data[\"num_callouts\"] < (data[\"num_callouts\"].mean() + 3* data[\"num_callouts\"].std())) &\n",
    "               (data[\"num_callouts\"] > (data[\"num_callouts\"].mean() - 3* data[\"num_callouts\"].std()))]\n",
    "    data = data[(data[\"num_diagnoses\"] < (data[\"num_diagnoses\"].mean() + 3* data[\"num_diagnoses\"].std())) &\n",
    "               (data[\"num_diagnoses\"] > (data[\"num_diagnoses\"].mean() - 3* data[\"num_diagnoses\"].std()))]\n",
    "    data = data[(data[\"num_procedures\"] < (data[\"num_procedures\"].mean() + 3* data[\"num_procedures\"].std())) &\n",
    "               (data[\"num_procedures\"] > (data[\"num_procedures\"].mean() - 3* data[\"num_procedures\"].std()))]\n",
    "    data = data[(data[\"num_cptevents\"] < (data[\"num_cptevents\"].mean() + 3* data[\"num_cptevents\"].std())) &\n",
    "               (data[\"num_cptevents\"] > (data[\"num_cptevents\"].mean() - 3* data[\"num_cptevents\"].std()))]\n",
    "    data = data[(data[\"num_inputevents\"] < (data[\"num_inputevents\"].mean() + 3* data[\"num_inputevents\"].std())) &\n",
    "               (data[\"num_inputevents\"] > (data[\"num_inputevents\"].mean() - 3* data[\"num_inputevents\"].std()))]\n",
    "    data = data[(data[\"num_labevents\"] < (data[\"num_labevents\"].mean() + 3* data[\"num_labevents\"].std())) &\n",
    "               (data[\"num_labevents\"] > (data[\"num_labevents\"].mean() - 3* data[\"num_labevents\"].std()))]\n",
    "    data = data[(data[\"num_microbiologyevents\"] < (data[\"num_microbiologyevents\"].mean() + 3* data[\"num_microbiologyevents\"].std())) &\n",
    "               (data[\"num_microbiologyevents\"] > (data[\"num_microbiologyevents\"].mean() - 3* data[\"num_microbiologyevents\"].std()))]\n",
    "    data = data[(data[\"num_noteevents\"] < (data[\"num_noteevents\"].mean() + 3* data[\"num_noteevents\"].std())) &\n",
    "               (data[\"num_noteevents\"] > (data[\"num_noteevents\"].mean() - 3* data[\"num_noteevents\"].std()))]\n",
    "    data = data[(data[\"num_outputevents\"] < (data[\"num_outputevents\"].mean() + 3* data[\"num_outputevents\"].std())) &\n",
    "               (data[\"num_outputevents\"] > (data[\"num_outputevents\"].mean() - 3* data[\"num_outputevents\"].std()))]\n",
    "    data = data[(data[\"num_procedureevents\"] < (data[\"num_procedureevents\"].mean() + 3* data[\"num_procedureevents\"].std())) &\n",
    "               (data[\"num_procedureevents\"] > (data[\"num_procedureevents\"].mean() - 3* data[\"num_procedureevents\"].std()))]\n",
    "    data = data[(data[\"num_transfers\"] < (data[\"num_transfers\"].mean() + 3* data[\"num_transfers\"].std())) &\n",
    "               (data[\"num_transfers\"] > (data[\"num_transfers\"].mean() - 3* data[\"num_transfers\"].std()))]\n",
    "    data = data[(data[\"num_chartevents\"] < (data[\"num_chartevents\"].mean() + 3* data[\"num_chartevents\"].std())) &\n",
    "               (data[\"num_chartevents\"] > (data[\"num_chartevents\"].mean() - 3* data[\"num_chartevents\"].std()))]\n",
    "    \n",
    "    # Wrong values / mapping\n",
    "    data = data[data.admission_origin != '?']\n",
    "\n",
    "    data = data[data.admission_origin != 'NOT AVAIL.']\n",
    "\n",
    "    data = data[data.admission_origin != 'NOT AVAILABLE']\n",
    "\n",
    "    data['admission_origin'] = data['admission_origin'].str.strip()\n",
    "\n",
    "    data['admission_origin'] = data['admission_origin'].replace(['ADMITTED FRIM EMERGENCY','ADMITTED FROM EMERGENCY','EMERG. ROOM ADMISSION',\n",
    "                                   'EMERGENCY ROOM ADMIT','ER ADMISSION','ER ADMIT','ER ADMIT','ER ADMISSION'], 'EMERGENCY ROOM ADMISSION')\n",
    "\n",
    "    data['admission_origin'] = data['admission_origin'].replace(['CINIC REFERRAL','CLINIC','CLINIC REFERAL',\n",
    "                                   'FROM CLINIC','REFERRAL','CLINIC  REFERRAL',\n",
    "                                                                        \"HMO REFERAL\",\"HMO REFERRAL\"], 'CLINIC REFERRAL')\n",
    "\n",
    "    data['admission_origin'] = data['admission_origin'].replace(['PHYS REFERRA','PHYSICAL   REFERRAL','PHYSICAL  REFERRAL',\n",
    "                                                            'PHYS REFERRAL'], 'PHYSICAL REFERRAL')\n",
    "\n",
    "    data['admission_origin'] = data['admission_origin'].replace([\"HOSP. TRAN.\", 'TRANFSER FROM HOSPITAL','TFH'\n",
    "                                                            ,'TRANS FRM HPL', 'TRANSFER FROM HOSP.','TRANSFER FROM HOSPITAL'\n",
    "            ,'TRANSFER FROM SAME HOSPITAL',\"TRANSFER FROM SKILLED NURSE\", 'TRANFSER FROM SAME HOSP.', \"TRANS FRM SKL NURSE\", 'INTERNAL TRANSFER', 'TRANSFER FROM OTHER HEALTH CENTER',\n",
    "                                                                        'TRANSFER FROM OHTER HEALTH CENTER', 'TRNS FR HEALTH CNTR','TRANSFER FROM OTHER  HEALTH CENTER'], 'HOSPITAL TRANSFER')\n",
    "    \n",
    "    data['admission_origin'] = data['admission_origin'].map({\"EMERGENCY ROOM ADMISSION\": 0 , \"PHYSICAL REFERRAL\":1,\n",
    "                                                            'CLINIC REFERRAL':2,'HOSPITAL TRANSFER':3})\n",
    "\n",
    "    data['gender'] = data['gender'].map({'M' : 0,\"F\" : 1})\n",
    "    \n",
    "    data = data[(data.insurance != '?') & (data.insurance != ' ')]\n",
    "    \n",
    "    data['insurance'] = data['insurance'].map({'Medicare' : 0,\"Private\" : 1, 'Medicaid': 2, 'Government': 3, 'Self Pay': 4 })\n",
    "    \n",
    "    data['admission_type'] = data['admission_type'].map({'EMERGENCY' : 0, \"NEWBORN\" : 1, 'ELECTIVE': 2, 'URGENT': 3 })\n",
    "    \n",
    "    # Reset index\n",
    "    data = data.reset_index()\n",
    "    data = data.drop(['index'],axis=1)\n",
    "    \n",
    "    # Binning age\n",
    "    for i in range(len(data['age'])):\n",
    "        if data['age'][i] < 1:\n",
    "            data['age'][i] = 1\n",
    "        elif data['age'][i] >= 1 and data['age'][i] < 35:\n",
    "            data['age'][i] = 2\n",
    "        elif data['age'][i] >= 35 and data['age'][i] < 65:\n",
    "            data['age'][i] = 3\n",
    "        else:\n",
    "            data['age'][i] = 4\n",
    "    \n",
    "    # Hospitalization simple mapping\n",
    "    for i in range(len(data['hospitalization'])):\n",
    "        if data['hospitalization'][i] < 1:\n",
    "            data['hospitalization'][i] = \"Day\"\n",
    "        elif data['hospitalization'][i] >= 1 and data['hospitalization'][i] < 7:\n",
    "            data['hospitalization'][i] = \"Week\"\n",
    "        elif data['hospitalization'][i] >= 7 and data['hospitalization'][i] < 14:\n",
    "            data['hospitalization'][i] = \"TwoWeeks\"\n",
    "        elif data['hospitalization'][i] >= 15 and data['hospitalization'][i] < 30:\n",
    "            data['hospitalization'][i] = \"Month\"\n",
    "        else:\n",
    "            data['hospitalization'][i] = \"More\"\n",
    "        \n",
    "    return data"
   ]
  },
  {
   "cell_type": "code",
   "execution_count": 56,
   "metadata": {
    "scrolled": false
   },
   "outputs": [],
   "source": [
    "# Data without outliers, missing values\n",
    "cleaned_data = cleaning(raw_data)"
   ]
  },
  {
   "cell_type": "code",
   "execution_count": 57,
   "metadata": {},
   "outputs": [
    {
     "data": {
      "text/html": [
       "<div>\n",
       "<style scoped>\n",
       "    .dataframe tbody tr th:only-of-type {\n",
       "        vertical-align: middle;\n",
       "    }\n",
       "\n",
       "    .dataframe tbody tr th {\n",
       "        vertical-align: top;\n",
       "    }\n",
       "\n",
       "    .dataframe thead th {\n",
       "        text-align: right;\n",
       "    }\n",
       "</style>\n",
       "<table border=\"1\" class=\"dataframe\">\n",
       "  <thead>\n",
       "    <tr style=\"text-align: right;\">\n",
       "      <th></th>\n",
       "      <th>gender</th>\n",
       "      <th>age</th>\n",
       "      <th>hospitalization</th>\n",
       "      <th>admission_type</th>\n",
       "      <th>admission_origin</th>\n",
       "      <th>admission_diagnosis</th>\n",
       "      <th>insurance</th>\n",
       "      <th>religion</th>\n",
       "      <th>marital_status</th>\n",
       "      <th>ethnicity</th>\n",
       "      <th>num_callouts</th>\n",
       "      <th>num_diagnoses</th>\n",
       "      <th>num_procedures</th>\n",
       "      <th>admission_procedure</th>\n",
       "      <th>num_cptevents</th>\n",
       "      <th>num_inputevents</th>\n",
       "      <th>num_labevents</th>\n",
       "      <th>num_microbiologyevents</th>\n",
       "      <th>num_noteevents</th>\n",
       "      <th>num_outputevents</th>\n",
       "      <th>num_procedureevents</th>\n",
       "      <th>num_transfers</th>\n",
       "      <th>num_chartevents</th>\n",
       "      <th>expired</th>\n",
       "      <th>patient_id</th>\n",
       "    </tr>\n",
       "  </thead>\n",
       "  <tbody>\n",
       "    <tr>\n",
       "      <th>0</th>\n",
       "      <td>0</td>\n",
       "      <td>4</td>\n",
       "      <td>Week</td>\n",
       "      <td>0</td>\n",
       "      <td>2</td>\n",
       "      <td>PNEUMONIA</td>\n",
       "      <td>0</td>\n",
       "      <td>NOT SPECIFIED</td>\n",
       "      <td>DIVORCED</td>\n",
       "      <td>WHITE</td>\n",
       "      <td>1</td>\n",
       "      <td>2</td>\n",
       "      <td>0</td>\n",
       "      <td>Closed bronchial biopsy</td>\n",
       "      <td>1</td>\n",
       "      <td>7</td>\n",
       "      <td>37</td>\n",
       "      <td>3</td>\n",
       "      <td>0</td>\n",
       "      <td>2</td>\n",
       "      <td>0</td>\n",
       "      <td>1</td>\n",
       "      <td>356</td>\n",
       "      <td>0</td>\n",
       "      <td>0</td>\n",
       "    </tr>\n",
       "    <tr>\n",
       "      <th>1</th>\n",
       "      <td>0</td>\n",
       "      <td>2</td>\n",
       "      <td>Week</td>\n",
       "      <td>0</td>\n",
       "      <td>0</td>\n",
       "      <td>SEIZURE</td>\n",
       "      <td>3</td>\n",
       "      <td>NOT SPECIFIED</td>\n",
       "      <td>SINGLE</td>\n",
       "      <td>PATIENT DECLINED TO ANSWER</td>\n",
       "      <td>1</td>\n",
       "      <td>0</td>\n",
       "      <td>1</td>\n",
       "      <td>Cont inv mec ven &lt;96 hrs</td>\n",
       "      <td>2</td>\n",
       "      <td>51</td>\n",
       "      <td>44</td>\n",
       "      <td>2</td>\n",
       "      <td>1</td>\n",
       "      <td>11</td>\n",
       "      <td>0</td>\n",
       "      <td>1</td>\n",
       "      <td>763</td>\n",
       "      <td>0</td>\n",
       "      <td>1</td>\n",
       "    </tr>\n",
       "    <tr>\n",
       "      <th>2</th>\n",
       "      <td>0</td>\n",
       "      <td>3</td>\n",
       "      <td>Month</td>\n",
       "      <td>0</td>\n",
       "      <td>0</td>\n",
       "      <td>SCALP LACERATION;RESPIRATORY FAILURE</td>\n",
       "      <td>3</td>\n",
       "      <td>UNOBTAINABLE</td>\n",
       "      <td>DIVORCED</td>\n",
       "      <td>BLACK/AFRICAN AMERICAN</td>\n",
       "      <td>0</td>\n",
       "      <td>1</td>\n",
       "      <td>1</td>\n",
       "      <td>Cont inv mec ven 96+ hrs</td>\n",
       "      <td>1</td>\n",
       "      <td>63</td>\n",
       "      <td>48</td>\n",
       "      <td>3</td>\n",
       "      <td>0</td>\n",
       "      <td>16</td>\n",
       "      <td>0</td>\n",
       "      <td>0</td>\n",
       "      <td>1102</td>\n",
       "      <td>0</td>\n",
       "      <td>2</td>\n",
       "    </tr>\n",
       "    <tr>\n",
       "      <th>3</th>\n",
       "      <td>1</td>\n",
       "      <td>3</td>\n",
       "      <td>TwoWeeks</td>\n",
       "      <td>3</td>\n",
       "      <td>3</td>\n",
       "      <td>CARDIAC DZ.</td>\n",
       "      <td>1</td>\n",
       "      <td>OTHER</td>\n",
       "      <td>MARRIED</td>\n",
       "      <td>UNKNOWN/NOT SPECIFIED</td>\n",
       "      <td>0</td>\n",
       "      <td>1</td>\n",
       "      <td>0</td>\n",
       "      <td>Implt/repl carddefib tot</td>\n",
       "      <td>1</td>\n",
       "      <td>3</td>\n",
       "      <td>22</td>\n",
       "      <td>1</td>\n",
       "      <td>0</td>\n",
       "      <td>1</td>\n",
       "      <td>0</td>\n",
       "      <td>0</td>\n",
       "      <td>38</td>\n",
       "      <td>0</td>\n",
       "      <td>3</td>\n",
       "    </tr>\n",
       "    <tr>\n",
       "      <th>4</th>\n",
       "      <td>1</td>\n",
       "      <td>3</td>\n",
       "      <td>TwoWeeks</td>\n",
       "      <td>0</td>\n",
       "      <td>3</td>\n",
       "      <td>RESPIRATORY FAILURE</td>\n",
       "      <td>1</td>\n",
       "      <td>NOT SPECIFIED</td>\n",
       "      <td>MARRIED</td>\n",
       "      <td>WHITE</td>\n",
       "      <td>1</td>\n",
       "      <td>3</td>\n",
       "      <td>0</td>\n",
       "      <td>Cont inv mec ven &lt;96 hrs</td>\n",
       "      <td>2</td>\n",
       "      <td>4</td>\n",
       "      <td>32</td>\n",
       "      <td>0</td>\n",
       "      <td>0</td>\n",
       "      <td>3</td>\n",
       "      <td>0</td>\n",
       "      <td>0</td>\n",
       "      <td>276</td>\n",
       "      <td>0</td>\n",
       "      <td>5</td>\n",
       "    </tr>\n",
       "  </tbody>\n",
       "</table>\n",
       "</div>"
      ],
      "text/plain": [
       "   gender  age hospitalization  admission_type  admission_origin  \\\n",
       "0       0    4            Week               0                 2   \n",
       "1       0    2            Week               0                 0   \n",
       "2       0    3           Month               0                 0   \n",
       "3       1    3        TwoWeeks               3                 3   \n",
       "4       1    3        TwoWeeks               0                 3   \n",
       "\n",
       "                    admission_diagnosis  insurance       religion  \\\n",
       "0                             PNEUMONIA          0  NOT SPECIFIED   \n",
       "1                               SEIZURE          3  NOT SPECIFIED   \n",
       "2  SCALP LACERATION;RESPIRATORY FAILURE          3   UNOBTAINABLE   \n",
       "3                           CARDIAC DZ.          1          OTHER   \n",
       "4                   RESPIRATORY FAILURE          1  NOT SPECIFIED   \n",
       "\n",
       "  marital_status                   ethnicity  num_callouts  num_diagnoses  \\\n",
       "0       DIVORCED                       WHITE             1              2   \n",
       "1         SINGLE  PATIENT DECLINED TO ANSWER             1              0   \n",
       "2       DIVORCED      BLACK/AFRICAN AMERICAN             0              1   \n",
       "3        MARRIED       UNKNOWN/NOT SPECIFIED             0              1   \n",
       "4        MARRIED                       WHITE             1              3   \n",
       "\n",
       "   num_procedures       admission_procedure  num_cptevents  num_inputevents  \\\n",
       "0               0   Closed bronchial biopsy              1                7   \n",
       "1               1  Cont inv mec ven <96 hrs              2               51   \n",
       "2               1  Cont inv mec ven 96+ hrs              1               63   \n",
       "3               0  Implt/repl carddefib tot              1                3   \n",
       "4               0  Cont inv mec ven <96 hrs              2                4   \n",
       "\n",
       "   num_labevents  num_microbiologyevents  num_noteevents  num_outputevents  \\\n",
       "0             37                       3               0                 2   \n",
       "1             44                       2               1                11   \n",
       "2             48                       3               0                16   \n",
       "3             22                       1               0                 1   \n",
       "4             32                       0               0                 3   \n",
       "\n",
       "   num_procedureevents  num_transfers  num_chartevents  expired  patient_id  \n",
       "0                    0              1              356        0           0  \n",
       "1                    0              1              763        0           1  \n",
       "2                    0              0             1102        0           2  \n",
       "3                    0              0               38        0           3  \n",
       "4                    0              0              276        0           5  "
      ]
     },
     "execution_count": 57,
     "metadata": {},
     "output_type": "execute_result"
    }
   ],
   "source": [
    "cleaned_data.head()\n",
    "\n",
    "# cleaned_data.isna().sum()"
   ]
  },
  {
   "cell_type": "code",
   "execution_count": 59,
   "metadata": {
    "scrolled": true
   },
   "outputs": [
    {
     "data": {
      "text/plain": [
       "Week        13668\n",
       "TwoWeeks     9713\n",
       "Month        4237\n",
       "More         1969\n",
       "Day            79\n",
       "Name: hospitalization, dtype: int64"
      ]
     },
     "execution_count": 59,
     "metadata": {},
     "output_type": "execute_result"
    }
   ],
   "source": [
    "# Imbalanced data, because most of the values are placed in the Week category and then TwoWeeks\n",
    "cleaned_data[\"hospitalization\"].value_counts()"
   ]
  },
  {
   "cell_type": "markdown",
   "metadata": {},
   "source": [
    "# 3.1 Machine Learning - Modeling part"
   ]
  },
  {
   "cell_type": "code",
   "execution_count": 60,
   "metadata": {},
   "outputs": [],
   "source": [
    "x_num = cleaned_data[[\"num_callouts\",\"num_diagnoses\",\"num_procedures\",\"num_transfers\",\"num_chartevents\"]]\n",
    "x_cat = cleaned_data[[\"gender\",\"admission_type\",\"admission_origin\",\"insurance\",\"expired\",\"age\"]]"
   ]
  },
  {
   "cell_type": "code",
   "execution_count": 61,
   "metadata": {},
   "outputs": [
    {
     "name": "stdout",
     "output_type": "stream",
     "text": [
      "Feature 0: 1143.093501\n",
      "Feature 1: 1833.664289\n",
      "Feature 2: 335.167554\n",
      "Feature 3: 4630.980318\n",
      "Feature 4: 43.298706\n"
     ]
    },
    {
     "data": {
      "image/png": "[encoded data removed]",
      "text/plain": [
       "<Figure size 432x288 with 1 Axes>"
      ]
     },
     "metadata": {
      "needs_background": "light"
     },
     "output_type": "display_data"
    }
   ],
   "source": [
    "# Select features according to the k highest scores. [ANOVA F-value] \n",
    "# See the feature importance\n",
    "\n",
    "def select_num_features(X_train, y_train, X_test):\n",
    "    fs = SelectKBest(score_func=f_classif, k='all')\n",
    "    fs.fit(X_train, y_train)\n",
    "    X_train_fs = fs.transform(X_train)\n",
    "    X_test_fs = fs.transform(X_test)\n",
    "    return X_train_fs, X_test_fs, fs\n",
    "\n",
    "# Split the dataset to train, test. [70% - 30%]\n",
    "X_train, X_test, y_train, y_test = train_test_split(x_num, cleaned_data[\"hospitalization\"], test_size=0.30, random_state=1)\n",
    "X_train_fs, X_test_fs, fs = select_num_features(X_train, y_train, X_test)\n",
    "\n",
    "for i in range(len(fs.scores_)):\n",
    "    print('Feature %d: %f' % (i, fs.scores_[i]))\n",
    "plt.bar([i for i in range(len(fs.scores_))], fs.scores_)\n",
    "plt.show()"
   ]
  },
  {
   "cell_type": "code",
   "execution_count": 63,
   "metadata": {
    "scrolled": false
   },
   "outputs": [
    {
     "name": "stdout",
     "output_type": "stream",
     "text": [
      "Feature 0: 1.057394\n",
      "Feature 1: 109.578381\n",
      "Feature 2: 53.360731\n",
      "Feature 3: 109.593185\n",
      "Feature 4: 485.442523\n",
      "Feature 5: 22.323086\n"
     ]
    },
    {
     "data": {
      "image/png": "[encoded data removed]",
      "text/plain": [
       "<Figure size 432x288 with 1 Axes>"
      ]
     },
     "metadata": {
      "needs_background": "light"
     },
     "output_type": "display_data"
    }
   ],
   "source": [
    "# Chi-squared stats of non-negative features for classification tasks.\n",
    "\n",
    "def select_cat_features(X_train, y_train, X_test):\n",
    "    fs = SelectKBest(score_func = chi2, k='all')\n",
    "    fs.fit(X_train, y_train)\n",
    "    X_train_fs = fs.transform(X_train)\n",
    "    X_test_fs = fs.transform(X_test)\n",
    "    return X_train_fs, X_test_fs, fs\n",
    "\n",
    "X_train, X_test, y_train, y_test = train_test_split(x_cat, cleaned_data[\"hospitalization\"], test_size=0.33, random_state=1)\n",
    "X_train_fs, X_test_fs, fs = select_cat_features(X_train, y_train, X_test)\n",
    "for i in range(len(fs.scores_)):\n",
    "    print('Feature %d: %f' % (i, fs.scores_[i]))\n",
    "plt.bar([i for i in range(len(fs.scores_))], fs.scores_)\n",
    "plt.show()"
   ]
  },
  {
   "cell_type": "markdown",
   "metadata": {},
   "source": [
    "## Cat Boost model"
   ]
  },
  {
   "cell_type": "code",
   "execution_count": 67,
   "metadata": {},
   "outputs": [],
   "source": [
    "features = cleaned_data.drop(['hospitalization'], axis=1)\n",
    "target = cleaned_data[\"hospitalization\"]\n",
    "X_train, X_test, y_train, y_test = train_test_split(features, target, test_size=0.3)"
   ]
  },
  {
   "cell_type": "code",
   "execution_count": 68,
   "metadata": {},
   "outputs": [
    {
     "data": {
      "text/plain": [
       "(20766, 24)"
      ]
     },
     "execution_count": 68,
     "metadata": {},
     "output_type": "execute_result"
    }
   ],
   "source": [
    "X_train.shape"
   ]
  },
  {
   "cell_type": "markdown",
   "metadata": {},
   "source": [
    "### Declare feature vector and target variable"
   ]
  },
  {
   "cell_type": "code",
   "execution_count": 69,
   "metadata": {},
   "outputs": [],
   "source": [
    "X = X_train\n",
    "y = y_train"
   ]
  },
  {
   "cell_type": "code",
   "execution_count": 70,
   "metadata": {
    "scrolled": false
   },
   "outputs": [
    {
     "data": {
      "text/html": [
       "<div>\n",
       "<style scoped>\n",
       "    .dataframe tbody tr th:only-of-type {\n",
       "        vertical-align: middle;\n",
       "    }\n",
       "\n",
       "    .dataframe tbody tr th {\n",
       "        vertical-align: top;\n",
       "    }\n",
       "\n",
       "    .dataframe thead th {\n",
       "        text-align: right;\n",
       "    }\n",
       "</style>\n",
       "<table border=\"1\" class=\"dataframe\">\n",
       "  <thead>\n",
       "    <tr style=\"text-align: right;\">\n",
       "      <th></th>\n",
       "      <th>admission_diagnosis</th>\n",
       "      <th>religion</th>\n",
       "      <th>marital_status</th>\n",
       "      <th>ethnicity</th>\n",
       "      <th>admission_procedure</th>\n",
       "    </tr>\n",
       "  </thead>\n",
       "  <tbody>\n",
       "    <tr>\n",
       "      <th>4585</th>\n",
       "      <td>CEREBRAL INFARCT</td>\n",
       "      <td>UNOBTAINABLE</td>\n",
       "      <td>DIVORCED</td>\n",
       "      <td>UNKNOWN/NOT SPECIFIED</td>\n",
       "      <td>Insert endotracheal tube</td>\n",
       "    </tr>\n",
       "    <tr>\n",
       "      <th>2742</th>\n",
       "      <td>OPEN WOUND CHEST WALL/SDA</td>\n",
       "      <td>NOT SPECIFIED</td>\n",
       "      <td>MARRIED</td>\n",
       "      <td>WHITE</td>\n",
       "      <td>Clos thoracic fistul NEC</td>\n",
       "    </tr>\n",
       "    <tr>\n",
       "      <th>4617</th>\n",
       "      <td>CORONARY ARTERY DISEASE</td>\n",
       "      <td>CATHOLIC</td>\n",
       "      <td>MARRIED</td>\n",
       "      <td>WHITE</td>\n",
       "      <td>Aortocor bypas-2 cor art</td>\n",
       "    </tr>\n",
       "    <tr>\n",
       "      <th>1473</th>\n",
       "      <td>DYSPNEA</td>\n",
       "      <td>CATHOLIC</td>\n",
       "      <td>MARRIED</td>\n",
       "      <td>WHITE</td>\n",
       "      <td>Venous cath NEC</td>\n",
       "    </tr>\n",
       "    <tr>\n",
       "      <th>16432</th>\n",
       "      <td>S/P MI\\CATH</td>\n",
       "      <td>CATHOLIC</td>\n",
       "      <td>SINGLE</td>\n",
       "      <td>UNKNOWN/NOT SPECIFIED</td>\n",
       "      <td>na</td>\n",
       "    </tr>\n",
       "  </tbody>\n",
       "</table>\n",
       "</div>"
      ],
      "text/plain": [
       "             admission_diagnosis       religion marital_status  \\\n",
       "4585            CEREBRAL INFARCT   UNOBTAINABLE       DIVORCED   \n",
       "2742   OPEN WOUND CHEST WALL/SDA  NOT SPECIFIED        MARRIED   \n",
       "4617     CORONARY ARTERY DISEASE       CATHOLIC        MARRIED   \n",
       "1473                     DYSPNEA       CATHOLIC        MARRIED   \n",
       "16432                S/P MI\\CATH       CATHOLIC         SINGLE   \n",
       "\n",
       "                   ethnicity       admission_procedure  \n",
       "4585   UNKNOWN/NOT SPECIFIED  Insert endotracheal tube  \n",
       "2742                   WHITE  Clos thoracic fistul NEC  \n",
       "4617                   WHITE  Aortocor bypas-2 cor art  \n",
       "1473                   WHITE           Venous cath NEC  \n",
       "16432  UNKNOWN/NOT SPECIFIED                        na  "
      ]
     },
     "execution_count": 70,
     "metadata": {},
     "output_type": "execute_result"
    }
   ],
   "source": [
    "cat_features = X.select_dtypes(include= ['O'])\n",
    "cat_features.head()"
   ]
  },
  {
   "cell_type": "code",
   "execution_count": 72,
   "metadata": {},
   "outputs": [],
   "source": [
    "X_train1, X_val, y_train1, y_val = train_test_split(X, y, test_size=0.3, random_state=0)"
   ]
  },
  {
   "cell_type": "code",
   "execution_count": 73,
   "metadata": {},
   "outputs": [
    {
     "name": "stdout",
     "output_type": "stream",
     "text": [
      "CatBoost model is fitted: True\n",
      "CatBoost model parameters:\n",
      "{'iterations': 5, 'learning_rate': 0.1}\n"
     ]
    }
   ],
   "source": [
    "clf = CatBoostClassifier(\n",
    "    iterations=5, \n",
    "    learning_rate=0.1, \n",
    "    #loss_function='CrossEntropy'\n",
    ")\n",
    "\n",
    "\n",
    "clf.fit(X_train1, y_train1, \n",
    "        cat_features=cat_features, \n",
    "        eval_set=(X_val, y_val), \n",
    "        verbose=False\n",
    ")\n",
    "\n",
    "print('CatBoost model is fitted: ' + str(clf.is_fitted()))\n",
    "print('CatBoost model parameters:')\n",
    "print(clf.get_params())"
   ]
  },
  {
   "cell_type": "code",
   "execution_count": 74,
   "metadata": {
    "scrolled": true
   },
   "outputs": [
    {
     "name": "stdout",
     "output_type": "stream",
     "text": [
      "Learning rate set to 0.5\n",
      "0:\tlearn: 0.9977492\ttest: 1.0001706\tbest: 1.0001706 (0)\ttotal: 56.5ms\tremaining: 508ms\n",
      "1:\tlearn: 0.8793445\ttest: 0.8825057\tbest: 0.8825057 (1)\ttotal: 101ms\tremaining: 403ms\n",
      "2:\tlearn: 0.7942799\ttest: 0.8016323\tbest: 0.8016323 (2)\ttotal: 188ms\tremaining: 438ms\n",
      "3:\tlearn: 0.7532490\ttest: 0.7607403\tbest: 0.7607403 (3)\ttotal: 287ms\tremaining: 430ms\n",
      "4:\tlearn: 0.7284915\ttest: 0.7371142\tbest: 0.7371142 (4)\ttotal: 374ms\tremaining: 374ms\n",
      "5:\tlearn: 0.7023832\ttest: 0.7117409\tbest: 0.7117409 (5)\ttotal: 461ms\tremaining: 307ms\n",
      "6:\tlearn: 0.6922961\ttest: 0.7021100\tbest: 0.7021100 (6)\ttotal: 558ms\tremaining: 239ms\n",
      "7:\tlearn: 0.6810729\ttest: 0.6910727\tbest: 0.6910727 (7)\ttotal: 643ms\tremaining: 161ms\n",
      "8:\tlearn: 0.6713691\ttest: 0.6827635\tbest: 0.6827635 (8)\ttotal: 727ms\tremaining: 80.8ms\n",
      "9:\tlearn: 0.6672269\ttest: 0.6809884\tbest: 0.6809884 (9)\ttotal: 820ms\tremaining: 0us\n",
      "\n",
      "bestTest = 0.6809883661\n",
      "bestIteration = 9\n",
      "\n"
     ]
    },
    {
     "data": {
      "text/plain": [
       "<catboost.core.CatBoostClassifier at 0x22febb99fd0>"
      ]
     },
     "execution_count": 74,
     "metadata": {},
     "output_type": "execute_result"
    }
   ],
   "source": [
    "from catboost import CatBoostClassifier\n",
    "clf = CatBoostClassifier(\n",
    "    iterations=10,\n",
    "#     verbose=5,\n",
    ")\n",
    "\n",
    "clf.fit(\n",
    "    X_train1, y_train1,\n",
    "    cat_features=cat_features,\n",
    "    eval_set=(X_val, y_val),\n",
    ")"
   ]
  },
  {
   "cell_type": "code",
   "execution_count": 75,
   "metadata": {},
   "outputs": [
    {
     "name": "stdout",
     "output_type": "stream",
     "text": [
      "[[0.00241673 0.00772828 0.00569066 0.20263786 0.78152646]\n",
      " [0.0022387  0.02113358 0.01049184 0.54392938 0.4222065 ]\n",
      " [0.00281794 0.23648017 0.07184184 0.61339053 0.07546952]\n",
      " ...\n",
      " [0.00124875 0.00421609 0.00327506 0.05606428 0.93519582]\n",
      " [0.00376418 0.3395655  0.13174546 0.45194875 0.07297611]\n",
      " [0.00213924 0.57162154 0.19638245 0.21568545 0.01417132]]\n"
     ]
    }
   ],
   "source": [
    "print(clf.predict_proba(data=X_val))"
   ]
  },
  {
   "cell_type": "markdown",
   "metadata": {},
   "source": [
    "## XGBoost model"
   ]
  },
  {
   "cell_type": "code",
   "execution_count": 88,
   "metadata": {},
   "outputs": [],
   "source": [
    "features = cleaned_data.drop([\"hospitalization\", \"admission_diagnosis\", \"religion\", \"marital_status\", \"ethnicity\", \"admission_procedure\"],axis=1)\n",
    "target = cleaned_data[\"hospitalization\"]\n",
    "X_train, X_test, y_train, y_test = train_test_split(features, target, test_size=0.3)"
   ]
  },
  {
   "cell_type": "code",
   "execution_count": 89,
   "metadata": {},
   "outputs": [
    {
     "name": "stdout",
     "output_type": "stream",
     "text": [
      "[23:33:04] WARNING: C:/Users/Administrator/workspace/xgboost-win64_release_1.3.0/src/learner.cc:1061: Starting in XGBoost 1.3.0, the default evaluation metric used with the objective 'multi:softprob' was changed from 'merror' to 'mlogloss'. Explicitly set eval_metric if you'd like to restore the old behavior.\n",
      "[23:33:08] WARNING: C:/Users/Administrator/workspace/xgboost-win64_release_1.3.0/src/learner.cc:1061: Starting in XGBoost 1.3.0, the default evaluation metric used with the objective 'multi:softprob' was changed from 'merror' to 'mlogloss'. Explicitly set eval_metric if you'd like to restore the old behavior.\n",
      "[23:33:13] WARNING: C:/Users/Administrator/workspace/xgboost-win64_release_1.3.0/src/learner.cc:1061: Starting in XGBoost 1.3.0, the default evaluation metric used with the objective 'multi:softprob' was changed from 'merror' to 'mlogloss'. Explicitly set eval_metric if you'd like to restore the old behavior.\n",
      "[23:33:17] WARNING: C:/Users/Administrator/workspace/xgboost-win64_release_1.3.0/src/learner.cc:1061: Starting in XGBoost 1.3.0, the default evaluation metric used with the objective 'multi:softprob' was changed from 'merror' to 'mlogloss'. Explicitly set eval_metric if you'd like to restore the old behavior.\n",
      "[23:33:21] WARNING: C:/Users/Administrator/workspace/xgboost-win64_release_1.3.0/src/learner.cc:1061: Starting in XGBoost 1.3.0, the default evaluation metric used with the objective 'multi:softprob' was changed from 'merror' to 'mlogloss'. Explicitly set eval_metric if you'd like to restore the old behavior.\n",
      "[23:33:25] WARNING: C:/Users/Administrator/workspace/xgboost-win64_release_1.3.0/src/learner.cc:1061: Starting in XGBoost 1.3.0, the default evaluation metric used with the objective 'multi:softprob' was changed from 'merror' to 'mlogloss'. Explicitly set eval_metric if you'd like to restore the old behavior.\n",
      "[23:33:30] WARNING: C:/Users/Administrator/workspace/xgboost-win64_release_1.3.0/src/learner.cc:1061: Starting in XGBoost 1.3.0, the default evaluation metric used with the objective 'multi:softprob' was changed from 'merror' to 'mlogloss'. Explicitly set eval_metric if you'd like to restore the old behavior.\n",
      "[23:33:34] WARNING: C:/Users/Administrator/workspace/xgboost-win64_release_1.3.0/src/learner.cc:1061: Starting in XGBoost 1.3.0, the default evaluation metric used with the objective 'multi:softprob' was changed from 'merror' to 'mlogloss'. Explicitly set eval_metric if you'd like to restore the old behavior.\n",
      "[23:33:39] WARNING: C:/Users/Administrator/workspace/xgboost-win64_release_1.3.0/src/learner.cc:1061: Starting in XGBoost 1.3.0, the default evaluation metric used with the objective 'multi:softprob' was changed from 'merror' to 'mlogloss'. Explicitly set eval_metric if you'd like to restore the old behavior.\n",
      "[23:33:43] WARNING: C:/Users/Administrator/workspace/xgboost-win64_release_1.3.0/src/learner.cc:1061: Starting in XGBoost 1.3.0, the default evaluation metric used with the objective 'multi:softprob' was changed from 'merror' to 'mlogloss'. Explicitly set eval_metric if you'd like to restore the old behavior.\n",
      "[23:33:48] WARNING: C:/Users/Administrator/workspace/xgboost-win64_release_1.3.0/src/learner.cc:1061: Starting in XGBoost 1.3.0, the default evaluation metric used with the objective 'multi:softprob' was changed from 'merror' to 'mlogloss'. Explicitly set eval_metric if you'd like to restore the old behavior.\n",
      "[23:33:53] WARNING: C:/Users/Administrator/workspace/xgboost-win64_release_1.3.0/src/learner.cc:1061: Starting in XGBoost 1.3.0, the default evaluation metric used with the objective 'multi:softprob' was changed from 'merror' to 'mlogloss'. Explicitly set eval_metric if you'd like to restore the old behavior.\n",
      "[23:33:57] WARNING: C:/Users/Administrator/workspace/xgboost-win64_release_1.3.0/src/learner.cc:1061: Starting in XGBoost 1.3.0, the default evaluation metric used with the objective 'multi:softprob' was changed from 'merror' to 'mlogloss'. Explicitly set eval_metric if you'd like to restore the old behavior.\n",
      "[23:34:02] WARNING: C:/Users/Administrator/workspace/xgboost-win64_release_1.3.0/src/learner.cc:1061: Starting in XGBoost 1.3.0, the default evaluation metric used with the objective 'multi:softprob' was changed from 'merror' to 'mlogloss'. Explicitly set eval_metric if you'd like to restore the old behavior.\n",
      "[23:34:07] WARNING: C:/Users/Administrator/workspace/xgboost-win64_release_1.3.0/src/learner.cc:1061: Starting in XGBoost 1.3.0, the default evaluation metric used with the objective 'multi:softprob' was changed from 'merror' to 'mlogloss'. Explicitly set eval_metric if you'd like to restore the old behavior.\n",
      "[23:34:12] WARNING: C:/Users/Administrator/workspace/xgboost-win64_release_1.3.0/src/learner.cc:1061: Starting in XGBoost 1.3.0, the default evaluation metric used with the objective 'multi:softprob' was changed from 'merror' to 'mlogloss'. Explicitly set eval_metric if you'd like to restore the old behavior.\n",
      "[23:34:19] WARNING: C:/Users/Administrator/workspace/xgboost-win64_release_1.3.0/src/learner.cc:1061: Starting in XGBoost 1.3.0, the default evaluation metric used with the objective 'multi:softprob' was changed from 'merror' to 'mlogloss'. Explicitly set eval_metric if you'd like to restore the old behavior.\n",
      "[23:34:25] WARNING: C:/Users/Administrator/workspace/xgboost-win64_release_1.3.0/src/learner.cc:1061: Starting in XGBoost 1.3.0, the default evaluation metric used with the objective 'multi:softprob' was changed from 'merror' to 'mlogloss'. Explicitly set eval_metric if you'd like to restore the old behavior.\n",
      "[23:34:32] WARNING: C:/Users/Administrator/workspace/xgboost-win64_release_1.3.0/src/learner.cc:1061: Starting in XGBoost 1.3.0, the default evaluation metric used with the objective 'multi:softprob' was changed from 'merror' to 'mlogloss'. Explicitly set eval_metric if you'd like to restore the old behavior.\n",
      "[23:34:38] WARNING: C:/Users/Administrator/workspace/xgboost-win64_release_1.3.0/src/learner.cc:1061: Starting in XGBoost 1.3.0, the default evaluation metric used with the objective 'multi:softprob' was changed from 'merror' to 'mlogloss'. Explicitly set eval_metric if you'd like to restore the old behavior.\n",
      "[23:34:45] WARNING: C:/Users/Administrator/workspace/xgboost-win64_release_1.3.0/src/learner.cc:1061: Starting in XGBoost 1.3.0, the default evaluation metric used with the objective 'multi:softprob' was changed from 'merror' to 'mlogloss'. Explicitly set eval_metric if you'd like to restore the old behavior.\n",
      "[23:34:56] WARNING: C:/Users/Administrator/workspace/xgboost-win64_release_1.3.0/src/learner.cc:1061: Starting in XGBoost 1.3.0, the default evaluation metric used with the objective 'multi:softprob' was changed from 'merror' to 'mlogloss'. Explicitly set eval_metric if you'd like to restore the old behavior.\n",
      "[23:35:05] WARNING: C:/Users/Administrator/workspace/xgboost-win64_release_1.3.0/src/learner.cc:1061: Starting in XGBoost 1.3.0, the default evaluation metric used with the objective 'multi:softprob' was changed from 'merror' to 'mlogloss'. Explicitly set eval_metric if you'd like to restore the old behavior.\n",
      "[23:35:15] WARNING: C:/Users/Administrator/workspace/xgboost-win64_release_1.3.0/src/learner.cc:1061: Starting in XGBoost 1.3.0, the default evaluation metric used with the objective 'multi:softprob' was changed from 'merror' to 'mlogloss'. Explicitly set eval_metric if you'd like to restore the old behavior.\n",
      "[23:35:25] WARNING: C:/Users/Administrator/workspace/xgboost-win64_release_1.3.0/src/learner.cc:1061: Starting in XGBoost 1.3.0, the default evaluation metric used with the objective 'multi:softprob' was changed from 'merror' to 'mlogloss'. Explicitly set eval_metric if you'd like to restore the old behavior.\n",
      "[23:35:36] WARNING: C:/Users/Administrator/workspace/xgboost-win64_release_1.3.0/src/learner.cc:1061: Starting in XGBoost 1.3.0, the default evaluation metric used with the objective 'multi:softprob' was changed from 'merror' to 'mlogloss'. Explicitly set eval_metric if you'd like to restore the old behavior.\n",
      "[23:35:42] WARNING: C:/Users/Administrator/workspace/xgboost-win64_release_1.3.0/src/learner.cc:1061: Starting in XGBoost 1.3.0, the default evaluation metric used with the objective 'multi:softprob' was changed from 'merror' to 'mlogloss'. Explicitly set eval_metric if you'd like to restore the old behavior.\n"
     ]
    },
    {
     "name": "stdout",
     "output_type": "stream",
     "text": [
      "[23:35:49] WARNING: C:/Users/Administrator/workspace/xgboost-win64_release_1.3.0/src/learner.cc:1061: Starting in XGBoost 1.3.0, the default evaluation metric used with the objective 'multi:softprob' was changed from 'merror' to 'mlogloss'. Explicitly set eval_metric if you'd like to restore the old behavior.\n",
      "[23:35:56] WARNING: C:/Users/Administrator/workspace/xgboost-win64_release_1.3.0/src/learner.cc:1061: Starting in XGBoost 1.3.0, the default evaluation metric used with the objective 'multi:softprob' was changed from 'merror' to 'mlogloss'. Explicitly set eval_metric if you'd like to restore the old behavior.\n",
      "[23:36:03] WARNING: C:/Users/Administrator/workspace/xgboost-win64_release_1.3.0/src/learner.cc:1061: Starting in XGBoost 1.3.0, the default evaluation metric used with the objective 'multi:softprob' was changed from 'merror' to 'mlogloss'. Explicitly set eval_metric if you'd like to restore the old behavior.\n",
      "[23:36:11] WARNING: C:/Users/Administrator/workspace/xgboost-win64_release_1.3.0/src/learner.cc:1061: Starting in XGBoost 1.3.0, the default evaluation metric used with the objective 'multi:softprob' was changed from 'merror' to 'mlogloss'. Explicitly set eval_metric if you'd like to restore the old behavior.\n",
      "[23:36:17] WARNING: C:/Users/Administrator/workspace/xgboost-win64_release_1.3.0/src/learner.cc:1061: Starting in XGBoost 1.3.0, the default evaluation metric used with the objective 'multi:softprob' was changed from 'merror' to 'mlogloss'. Explicitly set eval_metric if you'd like to restore the old behavior.\n",
      "[23:36:23] WARNING: C:/Users/Administrator/workspace/xgboost-win64_release_1.3.0/src/learner.cc:1061: Starting in XGBoost 1.3.0, the default evaluation metric used with the objective 'multi:softprob' was changed from 'merror' to 'mlogloss'. Explicitly set eval_metric if you'd like to restore the old behavior.\n",
      "[23:36:30] WARNING: C:/Users/Administrator/workspace/xgboost-win64_release_1.3.0/src/learner.cc:1061: Starting in XGBoost 1.3.0, the default evaluation metric used with the objective 'multi:softprob' was changed from 'merror' to 'mlogloss'. Explicitly set eval_metric if you'd like to restore the old behavior.\n",
      "[23:36:36] WARNING: C:/Users/Administrator/workspace/xgboost-win64_release_1.3.0/src/learner.cc:1061: Starting in XGBoost 1.3.0, the default evaluation metric used with the objective 'multi:softprob' was changed from 'merror' to 'mlogloss'. Explicitly set eval_metric if you'd like to restore the old behavior.\n",
      "[23:36:43] WARNING: C:/Users/Administrator/workspace/xgboost-win64_release_1.3.0/src/learner.cc:1061: Starting in XGBoost 1.3.0, the default evaluation metric used with the objective 'multi:softprob' was changed from 'merror' to 'mlogloss'. Explicitly set eval_metric if you'd like to restore the old behavior.\n",
      "[23:36:50] WARNING: C:/Users/Administrator/workspace/xgboost-win64_release_1.3.0/src/learner.cc:1061: Starting in XGBoost 1.3.0, the default evaluation metric used with the objective 'multi:softprob' was changed from 'merror' to 'mlogloss'. Explicitly set eval_metric if you'd like to restore the old behavior.\n",
      "[23:36:57] WARNING: C:/Users/Administrator/workspace/xgboost-win64_release_1.3.0/src/learner.cc:1061: Starting in XGBoost 1.3.0, the default evaluation metric used with the objective 'multi:softprob' was changed from 'merror' to 'mlogloss'. Explicitly set eval_metric if you'd like to restore the old behavior.\n",
      "[23:37:05] WARNING: C:/Users/Administrator/workspace/xgboost-win64_release_1.3.0/src/learner.cc:1061: Starting in XGBoost 1.3.0, the default evaluation metric used with the objective 'multi:softprob' was changed from 'merror' to 'mlogloss'. Explicitly set eval_metric if you'd like to restore the old behavior.\n",
      "[23:37:12] WARNING: C:/Users/Administrator/workspace/xgboost-win64_release_1.3.0/src/learner.cc:1061: Starting in XGBoost 1.3.0, the default evaluation metric used with the objective 'multi:softprob' was changed from 'merror' to 'mlogloss'. Explicitly set eval_metric if you'd like to restore the old behavior.\n",
      "[23:37:20] WARNING: C:/Users/Administrator/workspace/xgboost-win64_release_1.3.0/src/learner.cc:1061: Starting in XGBoost 1.3.0, the default evaluation metric used with the objective 'multi:softprob' was changed from 'merror' to 'mlogloss'. Explicitly set eval_metric if you'd like to restore the old behavior.\n",
      "[23:37:29] WARNING: C:/Users/Administrator/workspace/xgboost-win64_release_1.3.0/src/learner.cc:1061: Starting in XGBoost 1.3.0, the default evaluation metric used with the objective 'multi:softprob' was changed from 'merror' to 'mlogloss'. Explicitly set eval_metric if you'd like to restore the old behavior.\n",
      "[23:37:38] WARNING: C:/Users/Administrator/workspace/xgboost-win64_release_1.3.0/src/learner.cc:1061: Starting in XGBoost 1.3.0, the default evaluation metric used with the objective 'multi:softprob' was changed from 'merror' to 'mlogloss'. Explicitly set eval_metric if you'd like to restore the old behavior.\n",
      "[23:37:47] WARNING: C:/Users/Administrator/workspace/xgboost-win64_release_1.3.0/src/learner.cc:1061: Starting in XGBoost 1.3.0, the default evaluation metric used with the objective 'multi:softprob' was changed from 'merror' to 'mlogloss'. Explicitly set eval_metric if you'd like to restore the old behavior.\n",
      "[23:37:56] WARNING: C:/Users/Administrator/workspace/xgboost-win64_release_1.3.0/src/learner.cc:1061: Starting in XGBoost 1.3.0, the default evaluation metric used with the objective 'multi:softprob' was changed from 'merror' to 'mlogloss'. Explicitly set eval_metric if you'd like to restore the old behavior.\n",
      "[23:38:05] WARNING: C:/Users/Administrator/workspace/xgboost-win64_release_1.3.0/src/learner.cc:1061: Starting in XGBoost 1.3.0, the default evaluation metric used with the objective 'multi:softprob' was changed from 'merror' to 'mlogloss'. Explicitly set eval_metric if you'd like to restore the old behavior.\n",
      "[23:38:12] WARNING: C:/Users/Administrator/workspace/xgboost-win64_release_1.3.0/src/learner.cc:1061: Starting in XGBoost 1.3.0, the default evaluation metric used with the objective 'multi:softprob' was changed from 'merror' to 'mlogloss'. Explicitly set eval_metric if you'd like to restore the old behavior.\n",
      "[23:38:20] WARNING: C:/Users/Administrator/workspace/xgboost-win64_release_1.3.0/src/learner.cc:1061: Starting in XGBoost 1.3.0, the default evaluation metric used with the objective 'multi:softprob' was changed from 'merror' to 'mlogloss'. Explicitly set eval_metric if you'd like to restore the old behavior.\n",
      "[23:38:27] WARNING: C:/Users/Administrator/workspace/xgboost-win64_release_1.3.0/src/learner.cc:1061: Starting in XGBoost 1.3.0, the default evaluation metric used with the objective 'multi:softprob' was changed from 'merror' to 'mlogloss'. Explicitly set eval_metric if you'd like to restore the old behavior.\n",
      "[23:38:35] WARNING: C:/Users/Administrator/workspace/xgboost-win64_release_1.3.0/src/learner.cc:1061: Starting in XGBoost 1.3.0, the default evaluation metric used with the objective 'multi:softprob' was changed from 'merror' to 'mlogloss'. Explicitly set eval_metric if you'd like to restore the old behavior.\n",
      "[23:38:43] WARNING: C:/Users/Administrator/workspace/xgboost-win64_release_1.3.0/src/learner.cc:1061: Starting in XGBoost 1.3.0, the default evaluation metric used with the objective 'multi:softprob' was changed from 'merror' to 'mlogloss'. Explicitly set eval_metric if you'd like to restore the old behavior.\n"
     ]
    },
    {
     "data": {
      "text/plain": [
       "RandomizedSearchCV(cv=5,\n",
       "                   estimator=XGBClassifier(base_score=None, booster='gbtree',\n",
       "                                           colsample_bylevel=None,\n",
       "                                           colsample_bynode=None,\n",
       "                                           colsample_bytree=None, gamma=None,\n",
       "                                           gpu_id=None, importance_type='gain',\n",
       "                                           interaction_constraints=None,\n",
       "                                           learning_rate=None,\n",
       "                                           max_delta_step=None, max_depth=None,\n",
       "                                           min_child_weight=None, missing=nan,\n",
       "                                           monotone_constraints=None,\n",
       "                                           n_estimators=100, n_jobs=None,\n",
       "                                           num_parallel_tree=None,\n",
       "                                           objective='multi:softprob',\n",
       "                                           random_state=None, reg_alpha=None,\n",
       "                                           reg_lambda=None,\n",
       "                                           scale_pos_weight=None,\n",
       "                                           subsample=None, tree_method=None,\n",
       "                                           validate_parameters=None,\n",
       "                                           verbosity=None),\n",
       "                   param_distributions={'colsample_bytree': [0.6, 0.8, 1.0],\n",
       "                                        'learning_rate': [0.01, 0.1, 0.2],\n",
       "                                        'max_depth': [3, 4, 5, 6]})"
      ]
     },
     "execution_count": 89,
     "metadata": {},
     "output_type": "execute_result"
    }
   ],
   "source": [
    "model = XGBClassifier(booster='gbtree', objective = 'multi:softprob')\n",
    "params = {'max_depth': [3,4,5,6], 'learning_rate': [0.01, 0.1, 0.2],'colsample_bytree': [0.6, 0.8, 1.0]}\n",
    "random_search = RandomizedSearchCV(model, param_distributions=params, cv=5)\n",
    "random_search.fit(X_train, y_train)"
   ]
  },
  {
   "cell_type": "code",
   "execution_count": 90,
   "metadata": {},
   "outputs": [],
   "source": [
    "preds = random_search.predict(X_test)"
   ]
  },
  {
   "cell_type": "code",
   "execution_count": 92,
   "metadata": {},
   "outputs": [],
   "source": [
    "report = classification_report(y_test, preds)\n",
    "conf_matrix = confusion_matrix(y_test, preds)"
   ]
  },
  {
   "cell_type": "code",
   "execution_count": 93,
   "metadata": {},
   "outputs": [
    {
     "name": "stdout",
     "output_type": "stream",
     "text": [
      "['Week' 'TwoWeeks' 'TwoWeeks' ... 'TwoWeeks' 'Month' 'TwoWeeks']\n",
      "              precision    recall  f1-score   support\n",
      "\n",
      "         Day       0.80      0.80      0.80        15\n",
      "       Month       0.54      0.52      0.53      1259\n",
      "        More       0.59      0.24      0.34       586\n",
      "    TwoWeeks       0.61      0.68      0.64      2942\n",
      "        Week       0.84      0.85      0.85      4098\n",
      "\n",
      "    accuracy                           0.71      8900\n",
      "   macro avg       0.68      0.62      0.63      8900\n",
      "weighted avg       0.71      0.71      0.70      8900\n",
      "\n",
      "[[  12    0    0    0    3]\n",
      " [   1  651   83  514   10]\n",
      " [   0  278  139  167    2]\n",
      " [   0  267   14 2002  659]\n",
      " [   2    9    1  583 3503]]\n"
     ]
    }
   ],
   "source": [
    "# Confusion matrix with precision, recall & f1-score.\n",
    "print(preds)\n",
    "print(report)\n",
    "print(conf_matrix)"
   ]
  },
  {
   "cell_type": "code",
   "execution_count": 94,
   "metadata": {},
   "outputs": [
    {
     "data": {
      "image/png": "[encoded data removed]",
      "text/plain": [
       "<Figure size 432x288 with 1 Axes>"
      ]
     },
     "metadata": {
      "needs_background": "light"
     },
     "output_type": "display_data"
    }
   ],
   "source": [
    "# Feature importance\n",
    "best_model = random_search.best_estimator_\n",
    "xgboost.plot_importance(best_model)\n",
    "plt.show()"
   ]
  },
  {
   "cell_type": "code",
   "execution_count": 95,
   "metadata": {},
   "outputs": [
    {
     "data": {
      "text/plain": [
       "{'max_depth': 5, 'learning_rate': 0.1, 'colsample_bytree': 0.8}"
      ]
     },
     "execution_count": 95,
     "metadata": {},
     "output_type": "execute_result"
    }
   ],
   "source": [
    "# Best parameters of the model\n",
    "random_search.best_params_"
   ]
  }
 ],
 "metadata": {
  "kernelspec": {
   "display_name": "Python 3",
   "language": "python",
   "name": "python3"
  },
  "language_info": {
   "codemirror_mode": {
    "name": "ipython",
    "version": 3
   },
   "file_extension": ".py",
   "mimetype": "text/x-python",
   "name": "python",
   "nbconvert_exporter": "python",
   "pygments_lexer": "ipython3",
   "version": "3.8.7"
  }
 },
 "nbformat": 4,
 "nbformat_minor": 4
}
